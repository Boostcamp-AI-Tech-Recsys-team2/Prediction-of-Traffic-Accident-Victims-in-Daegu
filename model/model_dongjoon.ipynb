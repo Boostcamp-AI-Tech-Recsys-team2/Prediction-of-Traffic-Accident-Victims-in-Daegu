{
 "cells": [
  {
   "cell_type": "code",
   "execution_count": 2,
   "metadata": {},
   "outputs": [],
   "source": [
    "import numpy as np\n",
    "import pandas as pd"
   ]
  },
  {
   "cell_type": "markdown",
   "metadata": {},
   "source": [
    "# score 함수 정의"
   ]
  },
  {
   "cell_type": "code",
   "execution_count": 3,
   "metadata": {},
   "outputs": [],
   "source": [
    "# get rmsle\n",
    "def rmsle(y_true, y_pred):\n",
    "    return np.sqrt(np.mean(np.power(np.log1p(y_true) - np.log1p(y_pred), 2)))"
   ]
  },
  {
   "cell_type": "code",
   "execution_count": 4,
   "metadata": {},
   "outputs": [],
   "source": [
    "def get_ECLO(x1, x2, x3, x4):\n",
    "    return x1*10+x2*5+x3*3+x4"
   ]
  },
  {
   "cell_type": "markdown",
   "metadata": {},
   "source": [
    "# 전처리"
   ]
  },
  {
   "cell_type": "code",
   "execution_count": 5,
   "metadata": {},
   "outputs": [],
   "source": [
    "train_df = pd.read_csv('../EDA/dataset/train.csv', index_col=\"ID\")\n",
    "test_df = pd.read_csv('../EDA/dataset/test.csv', index_col=\"ID\")"
   ]
  },
  {
   "cell_type": "code",
   "execution_count": 6,
   "metadata": {},
   "outputs": [],
   "source": [
    "label1 = train_df['사망자수']\n",
    "label2 = train_df['중상자수']\n",
    "label3 = train_df['경상자수']\n",
    "label4 = train_df['부상자수']"
   ]
  },
  {
   "cell_type": "code",
   "execution_count": 7,
   "metadata": {},
   "outputs": [],
   "source": [
    "train_df.drop([\"사망자수\", \"중상자수\", \"경상자수\", \"부상자수\", \"ECLO\"], axis=1, inplace=True)"
   ]
  },
  {
   "cell_type": "code",
   "execution_count": 8,
   "metadata": {},
   "outputs": [],
   "source": [
    "exclude_columns = train_df.columns.drop([\"사고일시\", \"요일\", \"기상상태\", \"도로형태\", \"노면상태\", \"사고유형\"])\n",
    "train_df.drop(exclude_columns, axis=1, inplace=True)"
   ]
  },
  {
   "cell_type": "code",
   "execution_count": 9,
   "metadata": {},
   "outputs": [],
   "source": [
    "def date_split(dataset):\n",
    "    dataset[\"month\"] = dataset[\"사고일시\"].apply(lambda x: int(x.split(\"-\")[1]))\n",
    "    dataset[\"day\"] = dataset[\"사고일시\"].apply(lambda x: int(x.split(\" \")[1]))\n",
    "    return dataset\n",
    "train_df = date_split(train_df)\n",
    "test_df = date_split(test_df)\n",
    "train_df.drop([\"사고일시\"], axis=1, inplace=True)\n",
    "test_df.drop([\"사고일시\"], axis=1, inplace=True)"
   ]
  },
  {
   "cell_type": "code",
   "execution_count": 10,
   "metadata": {},
   "outputs": [
    {
     "data": {
      "text/html": [
       "<div>\n",
       "<style scoped>\n",
       "    .dataframe tbody tr th:only-of-type {\n",
       "        vertical-align: middle;\n",
       "    }\n",
       "\n",
       "    .dataframe tbody tr th {\n",
       "        vertical-align: top;\n",
       "    }\n",
       "\n",
       "    .dataframe thead th {\n",
       "        text-align: right;\n",
       "    }\n",
       "</style>\n",
       "<table border=\"1\" class=\"dataframe\">\n",
       "  <thead>\n",
       "    <tr style=\"text-align: right;\">\n",
       "      <th></th>\n",
       "      <th>요일</th>\n",
       "      <th>기상상태</th>\n",
       "      <th>도로형태</th>\n",
       "      <th>노면상태</th>\n",
       "      <th>사고유형</th>\n",
       "      <th>month</th>\n",
       "      <th>day</th>\n",
       "    </tr>\n",
       "    <tr>\n",
       "      <th>ID</th>\n",
       "      <th></th>\n",
       "      <th></th>\n",
       "      <th></th>\n",
       "      <th></th>\n",
       "      <th></th>\n",
       "      <th></th>\n",
       "      <th></th>\n",
       "    </tr>\n",
       "  </thead>\n",
       "  <tbody>\n",
       "    <tr>\n",
       "      <th>ACCIDENT_39609</th>\n",
       "      <td>토요일</td>\n",
       "      <td>맑음</td>\n",
       "      <td>교차로 - 교차로안</td>\n",
       "      <td>건조</td>\n",
       "      <td>차대사람</td>\n",
       "      <td>1</td>\n",
       "      <td>1</td>\n",
       "    </tr>\n",
       "    <tr>\n",
       "      <th>ACCIDENT_39610</th>\n",
       "      <td>토요일</td>\n",
       "      <td>맑음</td>\n",
       "      <td>단일로 - 기타</td>\n",
       "      <td>건조</td>\n",
       "      <td>차대사람</td>\n",
       "      <td>1</td>\n",
       "      <td>1</td>\n",
       "    </tr>\n",
       "    <tr>\n",
       "      <th>ACCIDENT_39611</th>\n",
       "      <td>토요일</td>\n",
       "      <td>맑음</td>\n",
       "      <td>교차로 - 교차로안</td>\n",
       "      <td>건조</td>\n",
       "      <td>차대차</td>\n",
       "      <td>1</td>\n",
       "      <td>4</td>\n",
       "    </tr>\n",
       "    <tr>\n",
       "      <th>ACCIDENT_39612</th>\n",
       "      <td>토요일</td>\n",
       "      <td>맑음</td>\n",
       "      <td>단일로 - 기타</td>\n",
       "      <td>건조</td>\n",
       "      <td>차대차</td>\n",
       "      <td>1</td>\n",
       "      <td>4</td>\n",
       "    </tr>\n",
       "    <tr>\n",
       "      <th>ACCIDENT_39613</th>\n",
       "      <td>토요일</td>\n",
       "      <td>맑음</td>\n",
       "      <td>교차로 - 교차로안</td>\n",
       "      <td>건조</td>\n",
       "      <td>차대차</td>\n",
       "      <td>1</td>\n",
       "      <td>6</td>\n",
       "    </tr>\n",
       "  </tbody>\n",
       "</table>\n",
       "</div>"
      ],
      "text/plain": [
       "                 요일 기상상태        도로형태 노면상태  사고유형  month  day\n",
       "ID                                                         \n",
       "ACCIDENT_39609  토요일   맑음  교차로 - 교차로안   건조  차대사람      1    1\n",
       "ACCIDENT_39610  토요일   맑음    단일로 - 기타   건조  차대사람      1    1\n",
       "ACCIDENT_39611  토요일   맑음  교차로 - 교차로안   건조   차대차      1    4\n",
       "ACCIDENT_39612  토요일   맑음    단일로 - 기타   건조   차대차      1    4\n",
       "ACCIDENT_39613  토요일   맑음  교차로 - 교차로안   건조   차대차      1    6"
      ]
     },
     "execution_count": 10,
     "metadata": {},
     "output_type": "execute_result"
    }
   ],
   "source": [
    "test_df.drop(\"시군구\", axis=1, inplace=True)\n",
    "test_df.head()"
   ]
  },
  {
   "cell_type": "code",
   "execution_count": 11,
   "metadata": {},
   "outputs": [
    {
     "data": {
      "text/html": [
       "<div>\n",
       "<style scoped>\n",
       "    .dataframe tbody tr th:only-of-type {\n",
       "        vertical-align: middle;\n",
       "    }\n",
       "\n",
       "    .dataframe tbody tr th {\n",
       "        vertical-align: top;\n",
       "    }\n",
       "\n",
       "    .dataframe thead th {\n",
       "        text-align: right;\n",
       "    }\n",
       "</style>\n",
       "<table border=\"1\" class=\"dataframe\">\n",
       "  <thead>\n",
       "    <tr style=\"text-align: right;\">\n",
       "      <th></th>\n",
       "      <th>요일</th>\n",
       "      <th>기상상태</th>\n",
       "      <th>도로형태</th>\n",
       "      <th>노면상태</th>\n",
       "      <th>사고유형</th>\n",
       "      <th>month</th>\n",
       "      <th>day</th>\n",
       "    </tr>\n",
       "    <tr>\n",
       "      <th>ID</th>\n",
       "      <th></th>\n",
       "      <th></th>\n",
       "      <th></th>\n",
       "      <th></th>\n",
       "      <th></th>\n",
       "      <th></th>\n",
       "      <th></th>\n",
       "    </tr>\n",
       "  </thead>\n",
       "  <tbody>\n",
       "    <tr>\n",
       "      <th>ACCIDENT_00000</th>\n",
       "      <td>화요일</td>\n",
       "      <td>맑음</td>\n",
       "      <td>단일로 - 기타</td>\n",
       "      <td>건조</td>\n",
       "      <td>차대사람</td>\n",
       "      <td>1</td>\n",
       "      <td>0</td>\n",
       "    </tr>\n",
       "    <tr>\n",
       "      <th>ACCIDENT_00001</th>\n",
       "      <td>화요일</td>\n",
       "      <td>흐림</td>\n",
       "      <td>단일로 - 기타</td>\n",
       "      <td>건조</td>\n",
       "      <td>차대사람</td>\n",
       "      <td>1</td>\n",
       "      <td>0</td>\n",
       "    </tr>\n",
       "    <tr>\n",
       "      <th>ACCIDENT_00002</th>\n",
       "      <td>화요일</td>\n",
       "      <td>맑음</td>\n",
       "      <td>단일로 - 기타</td>\n",
       "      <td>건조</td>\n",
       "      <td>차대사람</td>\n",
       "      <td>1</td>\n",
       "      <td>1</td>\n",
       "    </tr>\n",
       "    <tr>\n",
       "      <th>ACCIDENT_00003</th>\n",
       "      <td>화요일</td>\n",
       "      <td>맑음</td>\n",
       "      <td>단일로 - 기타</td>\n",
       "      <td>건조</td>\n",
       "      <td>차대차</td>\n",
       "      <td>1</td>\n",
       "      <td>2</td>\n",
       "    </tr>\n",
       "    <tr>\n",
       "      <th>ACCIDENT_00004</th>\n",
       "      <td>화요일</td>\n",
       "      <td>맑음</td>\n",
       "      <td>단일로 - 기타</td>\n",
       "      <td>건조</td>\n",
       "      <td>차대차</td>\n",
       "      <td>1</td>\n",
       "      <td>4</td>\n",
       "    </tr>\n",
       "  </tbody>\n",
       "</table>\n",
       "</div>"
      ],
      "text/plain": [
       "                 요일 기상상태      도로형태 노면상태  사고유형  month  day\n",
       "ID                                                       \n",
       "ACCIDENT_00000  화요일   맑음  단일로 - 기타   건조  차대사람      1    0\n",
       "ACCIDENT_00001  화요일   흐림  단일로 - 기타   건조  차대사람      1    0\n",
       "ACCIDENT_00002  화요일   맑음  단일로 - 기타   건조  차대사람      1    1\n",
       "ACCIDENT_00003  화요일   맑음  단일로 - 기타   건조   차대차      1    2\n",
       "ACCIDENT_00004  화요일   맑음  단일로 - 기타   건조   차대차      1    4"
      ]
     },
     "execution_count": 11,
     "metadata": {},
     "output_type": "execute_result"
    }
   ],
   "source": [
    "train_df.head()"
   ]
  },
  {
   "cell_type": "markdown",
   "metadata": {},
   "source": [
    "# model"
   ]
  },
  {
   "cell_type": "code",
   "execution_count": 12,
   "metadata": {},
   "outputs": [
    {
     "data": {
      "text/plain": [
       "<39609x69 sparse matrix of type '<class 'numpy.float64'>'\n",
       "\twith 277263 stored elements in Compressed Sparse Row format>"
      ]
     },
     "execution_count": 12,
     "metadata": {},
     "output_type": "execute_result"
    }
   ],
   "source": [
    "# 카테고리 변수 트리 모델용으로 변환\n",
    "from sklearn.preprocessing import OneHotEncoder\n",
    "\n",
    "ohe = OneHotEncoder()\n",
    "train_df = ohe.fit_transform(train_df)\n",
    "test_df = ohe.transform(test_df)\n",
    "train_df"
   ]
  },
  {
   "cell_type": "code",
   "execution_count": 13,
   "metadata": {},
   "outputs": [],
   "source": [
    "# model\n",
    "from sklearn.ensemble import RandomForestRegressor\n",
    "from sklearn.model_selection import train_test_split\n",
    "\n",
    "rf1 = RandomForestRegressor(n_estimators= 350, random_state=42, n_jobs=-1)\n",
    "rf2 = RandomForestRegressor(n_estimators= 350, random_state=42, n_jobs=-1)\n",
    "rf3 = RandomForestRegressor(n_estimators= 350, random_state=42, n_jobs=-1)\n",
    "rf4 = RandomForestRegressor(n_estimators= 350, random_state=42, n_jobs=-1)\n",
    "train_X, val_X, train_y, val_y1 = train_test_split(train_df, label1, test_size=0.2, random_state=42)\n",
    "rf1.fit(train_X, train_y)\n",
    "train_X, val_X, train_y, val_y2 = train_test_split(train_df, label2, test_size=0.2, random_state=42)\n",
    "rf2.fit(train_X, train_y)\n",
    "train_X, val_X, train_y, val_y3 = train_test_split(train_df, label3, test_size=0.2, random_state=42)\n",
    "rf3.fit(train_X, train_y)\n",
    "train_X, val_X, train_y, val_y4 = train_test_split(train_df, label4, test_size=0.2, random_state=42)\n",
    "rf4.fit(train_X, train_y)\n",
    "pred1 = rf1.predict(val_X)\n",
    "pred2 = rf2.predict(val_X)\n",
    "pred3 = rf3.predict(val_X)\n",
    "pred4 = rf4.predict(val_X)\n",
    "pred = get_ECLO(pred1, pred2, pred3, pred4)\n",
    "val_y = get_ECLO(val_y1, val_y2, val_y3, val_y4)\n"
   ]
  },
  {
   "cell_type": "code",
   "execution_count": 14,
   "metadata": {},
   "outputs": [
    {
     "name": "stdout",
     "output_type": "stream",
     "text": [
      "[0.11047476 3.58626527] 0.45136445295250854\n"
     ]
    }
   ],
   "source": [
    "# w * pred 최소값 찾기\n",
    "from scipy.optimize import minimize\n",
    "def objective(params):\n",
    "    return rmsle(val_y, params[0]*pred + params[1])\n",
    "initial = [1, 0]\n",
    "sol = minimize(objective, initial)\n",
    "print(sol.x, sol.fun)\n",
    "# 0.45136445"
   ]
  },
  {
   "cell_type": "code",
   "execution_count": 15,
   "metadata": {},
   "outputs": [],
   "source": [
    "# submission = model.predict(test_df)\n",
    "# test_df = pd.read_csv('../EDA/dataset/test.csv', index_col=\"ID\")\n",
    "# submission = pd.DataFrame(submission, index=test_df.index, columns=[\"ECLO\"])\n",
    "# submission.to_csv(\"submission.csv\", index=True)"
   ]
  },
  {
   "cell_type": "markdown",
   "metadata": {},
   "source": [
    "public: 0.4464058375\n",
    "\n",
    "private: 0.447986566"
   ]
  }
 ],
 "metadata": {
  "kernelspec": {
   "display_name": "Python 3",
   "language": "python",
   "name": "python3"
  },
  "language_info": {
   "codemirror_mode": {
    "name": "ipython",
    "version": 3
   },
   "file_extension": ".py",
   "mimetype": "text/x-python",
   "name": "python",
   "nbconvert_exporter": "python",
   "pygments_lexer": "ipython3",
   "version": "3.12.2"
  }
 },
 "nbformat": 4,
 "nbformat_minor": 2
}
